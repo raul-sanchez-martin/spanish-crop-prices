{
 "cells": [
  {
   "cell_type": "markdown",
   "metadata": {},
   "source": [
    "# Analyze Price Data"
   ]
  },
  {
   "cell_type": "code",
   "execution_count": 58,
   "metadata": {},
   "outputs": [],
   "source": [
    "from datetime import datetime\n",
    "import os\n",
    "import pandas as pd\n",
    "import numpy as np"
   ]
  },
  {
   "cell_type": "markdown",
   "metadata": {},
   "source": [
    "# Get Dates"
   ]
  },
  {
   "cell_type": "code",
   "execution_count": 6,
   "metadata": {},
   "outputs": [],
   "source": [
    "def get_dates(root_folder):\n",
    "    files = os.listdir(root_folder)\n",
    "    return sorted([datetime.strptime(file.split(\"_\")[1].split(\".\")[0], '%d-%m-%Y') \n",
    "            for file in files if \".csv\" in file])"
   ]
  },
  {
   "cell_type": "code",
   "execution_count": 7,
   "metadata": {},
   "outputs": [],
   "source": [
    "root_folder = \"raw_data\"\n",
    "dates = get_dates(root_folder)"
   ]
  },
  {
   "cell_type": "markdown",
   "metadata": {},
   "source": [
    "# Get Data"
   ]
  },
  {
   "cell_type": "code",
   "execution_count": 8,
   "metadata": {},
   "outputs": [],
   "source": [
    "def get_data(dates):\n",
    "    data_list = [pd.read_csv(\"raw_data/data_{0}.csv\".format(date.strftime('%d-%m-%Y'))) for date in dates]\n",
    "    return pd.concat(data_list)"
   ]
  },
  {
   "cell_type": "code",
   "execution_count": 65,
   "metadata": {},
   "outputs": [],
   "source": [
    "final_data = get_data(dates)"
   ]
  },
  {
   "cell_type": "code",
   "execution_count": 66,
   "metadata": {},
   "outputs": [
    {
     "data": {
      "text/html": [
       "<div>\n",
       "<style scoped>\n",
       "    .dataframe tbody tr th:only-of-type {\n",
       "        vertical-align: middle;\n",
       "    }\n",
       "\n",
       "    .dataframe tbody tr th {\n",
       "        vertical-align: top;\n",
       "    }\n",
       "\n",
       "    .dataframe thead th {\n",
       "        text-align: right;\n",
       "    }\n",
       "</style>\n",
       "<table border=\"1\" class=\"dataframe\">\n",
       "  <thead>\n",
       "    <tr style=\"text-align: right;\">\n",
       "      <th></th>\n",
       "      <th>Producto</th>\n",
       "      <th>Categoría</th>\n",
       "      <th>Anterior</th>\n",
       "      <th>Último</th>\n",
       "      <th>Diferencia</th>\n",
       "      <th>Medida</th>\n",
       "      <th>Tendencia</th>\n",
       "      <th>Fecha</th>\n",
       "    </tr>\n",
       "  </thead>\n",
       "  <tbody>\n",
       "    <tr>\n",
       "      <th>0</th>\n",
       "      <td>Cereales</td>\n",
       "      <td>Trigo panificable</td>\n",
       "      <td>0,00 / 0,00</td>\n",
       "      <td>147,00</td>\n",
       "      <td>147,00</td>\n",
       "      <td>Eur / Tm.</td>\n",
       "      <td>NaN</td>\n",
       "      <td>02-01-2006</td>\n",
       "    </tr>\n",
       "    <tr>\n",
       "      <th>1</th>\n",
       "      <td>Cereales</td>\n",
       "      <td>Cebada</td>\n",
       "      <td>0,00 / 0,00</td>\n",
       "      <td>145,00</td>\n",
       "      <td>145,00</td>\n",
       "      <td>Eur / Tm.</td>\n",
       "      <td>NaN</td>\n",
       "      <td>02-01-2006</td>\n",
       "    </tr>\n",
       "    <tr>\n",
       "      <th>2</th>\n",
       "      <td>Cereales</td>\n",
       "      <td>Avena</td>\n",
       "      <td>0,00 / 0,00</td>\n",
       "      <td>145,00</td>\n",
       "      <td>145,00</td>\n",
       "      <td>Eur / Tm.</td>\n",
       "      <td>NaN</td>\n",
       "      <td>02-01-2006</td>\n",
       "    </tr>\n",
       "    <tr>\n",
       "      <th>3</th>\n",
       "      <td>Cereales</td>\n",
       "      <td>Centeno</td>\n",
       "      <td>0,00 / 0,00</td>\n",
       "      <td>139,00</td>\n",
       "      <td>139,00</td>\n",
       "      <td>Eur / Tm.</td>\n",
       "      <td>NaN</td>\n",
       "      <td>02-01-2006</td>\n",
       "    </tr>\n",
       "    <tr>\n",
       "      <th>4</th>\n",
       "      <td>Cereales</td>\n",
       "      <td>Maíz</td>\n",
       "      <td>0,00 / 0,00</td>\n",
       "      <td>142,00</td>\n",
       "      <td>142,00</td>\n",
       "      <td>Eur / Tm.</td>\n",
       "      <td>NaN</td>\n",
       "      <td>02-01-2006</td>\n",
       "    </tr>\n",
       "  </tbody>\n",
       "</table>\n",
       "</div>"
      ],
      "text/plain": [
       "   Producto          Categoría     Anterior  Último Diferencia     Medida  \\\n",
       "0  Cereales  Trigo panificable  0,00 / 0,00  147,00     147,00  Eur / Tm.   \n",
       "1  Cereales             Cebada  0,00 / 0,00  145,00     145,00  Eur / Tm.   \n",
       "2  Cereales              Avena  0,00 / 0,00  145,00     145,00  Eur / Tm.   \n",
       "3  Cereales            Centeno  0,00 / 0,00  139,00     139,00  Eur / Tm.   \n",
       "4  Cereales               Maíz  0,00 / 0,00  142,00     142,00  Eur / Tm.   \n",
       "\n",
       "  Tendencia       Fecha  \n",
       "0       NaN  02-01-2006  \n",
       "1       NaN  02-01-2006  \n",
       "2       NaN  02-01-2006  \n",
       "3       NaN  02-01-2006  \n",
       "4       NaN  02-01-2006  "
      ]
     },
     "execution_count": 66,
     "metadata": {},
     "output_type": "execute_result"
    }
   ],
   "source": [
    "final_data.head()"
   ]
  },
  {
   "cell_type": "code",
   "execution_count": 67,
   "metadata": {},
   "outputs": [
    {
     "data": {
      "text/html": [
       "<div>\n",
       "<style scoped>\n",
       "    .dataframe tbody tr th:only-of-type {\n",
       "        vertical-align: middle;\n",
       "    }\n",
       "\n",
       "    .dataframe tbody tr th {\n",
       "        vertical-align: top;\n",
       "    }\n",
       "\n",
       "    .dataframe thead th {\n",
       "        text-align: right;\n",
       "    }\n",
       "</style>\n",
       "<table border=\"1\" class=\"dataframe\">\n",
       "  <thead>\n",
       "    <tr style=\"text-align: right;\">\n",
       "      <th></th>\n",
       "      <th>Producto</th>\n",
       "      <th>Categoría</th>\n",
       "      <th>Anterior</th>\n",
       "      <th>Último</th>\n",
       "      <th>Diferencia</th>\n",
       "      <th>Medida</th>\n",
       "      <th>Tendencia</th>\n",
       "      <th>Fecha</th>\n",
       "    </tr>\n",
       "  </thead>\n",
       "  <tbody>\n",
       "    <tr>\n",
       "      <th>1</th>\n",
       "      <td>Cereales</td>\n",
       "      <td>Cebada</td>\n",
       "      <td>0,00 / 0,00</td>\n",
       "      <td>145,00</td>\n",
       "      <td>145,00</td>\n",
       "      <td>Eur / Tm.</td>\n",
       "      <td>NaN</td>\n",
       "      <td>02-01-2006</td>\n",
       "    </tr>\n",
       "    <tr>\n",
       "      <th>1</th>\n",
       "      <td>Cereales</td>\n",
       "      <td>Cebada</td>\n",
       "      <td>145,00</td>\n",
       "      <td>145,00</td>\n",
       "      <td>0,00</td>\n",
       "      <td>Eur / Tm.</td>\n",
       "      <td>NaN</td>\n",
       "      <td>09-01-2006</td>\n",
       "    </tr>\n",
       "    <tr>\n",
       "      <th>1</th>\n",
       "      <td>Cereales</td>\n",
       "      <td>Cebada</td>\n",
       "      <td>145,00</td>\n",
       "      <td>145,00</td>\n",
       "      <td>0,00</td>\n",
       "      <td>Eur / Tm.</td>\n",
       "      <td>NaN</td>\n",
       "      <td>16-01-2006</td>\n",
       "    </tr>\n",
       "    <tr>\n",
       "      <th>1</th>\n",
       "      <td>Cereales</td>\n",
       "      <td>Cebada</td>\n",
       "      <td>145,00</td>\n",
       "      <td>145,00</td>\n",
       "      <td>0,00</td>\n",
       "      <td>Eur / Tm.</td>\n",
       "      <td>NaN</td>\n",
       "      <td>23-01-2006</td>\n",
       "    </tr>\n",
       "    <tr>\n",
       "      <th>1</th>\n",
       "      <td>Cereales</td>\n",
       "      <td>Cebada</td>\n",
       "      <td>145,00</td>\n",
       "      <td>144,00</td>\n",
       "      <td>-1,00</td>\n",
       "      <td>Eur / Tm.</td>\n",
       "      <td>NaN</td>\n",
       "      <td>30-01-2006</td>\n",
       "    </tr>\n",
       "  </tbody>\n",
       "</table>\n",
       "</div>"
      ],
      "text/plain": [
       "   Producto Categoría     Anterior  Último Diferencia     Medida Tendencia  \\\n",
       "1  Cereales    Cebada  0,00 / 0,00  145,00     145,00  Eur / Tm.       NaN   \n",
       "1  Cereales    Cebada       145,00  145,00       0,00  Eur / Tm.       NaN   \n",
       "1  Cereales    Cebada       145,00  145,00       0,00  Eur / Tm.       NaN   \n",
       "1  Cereales    Cebada       145,00  145,00       0,00  Eur / Tm.       NaN   \n",
       "1  Cereales    Cebada       145,00  144,00      -1,00  Eur / Tm.       NaN   \n",
       "\n",
       "        Fecha  \n",
       "1  02-01-2006  \n",
       "1  09-01-2006  \n",
       "1  16-01-2006  \n",
       "1  23-01-2006  \n",
       "1  30-01-2006  "
      ]
     },
     "execution_count": 67,
     "metadata": {},
     "output_type": "execute_result"
    }
   ],
   "source": [
    "final_data[final_data[\"Categoría\"]==\"Cebada\"].head()"
   ]
  },
  {
   "cell_type": "code",
   "execution_count": 68,
   "metadata": {},
   "outputs": [
    {
     "data": {
      "text/html": [
       "<div>\n",
       "<style scoped>\n",
       "    .dataframe tbody tr th:only-of-type {\n",
       "        vertical-align: middle;\n",
       "    }\n",
       "\n",
       "    .dataframe tbody tr th {\n",
       "        vertical-align: top;\n",
       "    }\n",
       "\n",
       "    .dataframe thead th {\n",
       "        text-align: right;\n",
       "    }\n",
       "</style>\n",
       "<table border=\"1\" class=\"dataframe\">\n",
       "  <thead>\n",
       "    <tr style=\"text-align: right;\">\n",
       "      <th></th>\n",
       "      <th>Producto</th>\n",
       "      <th>Categoría</th>\n",
       "      <th>Anterior</th>\n",
       "      <th>Último</th>\n",
       "      <th>Diferencia</th>\n",
       "      <th>Medida</th>\n",
       "      <th>Tendencia</th>\n",
       "      <th>Fecha</th>\n",
       "    </tr>\n",
       "  </thead>\n",
       "  <tbody>\n",
       "    <tr>\n",
       "      <th>1</th>\n",
       "      <td>Cereales</td>\n",
       "      <td>Cebada</td>\n",
       "      <td>154,00 / 0,00</td>\n",
       "      <td>155,00 / 0,00</td>\n",
       "      <td>1,00</td>\n",
       "      <td>Eur / Tm.</td>\n",
       "      <td>NaN</td>\n",
       "      <td>23-07-2018</td>\n",
       "    </tr>\n",
       "    <tr>\n",
       "      <th>1</th>\n",
       "      <td>Cereales</td>\n",
       "      <td>Cebada</td>\n",
       "      <td>155,00 / 0,00</td>\n",
       "      <td>159,00 / 0,00</td>\n",
       "      <td>4,00</td>\n",
       "      <td>Eur / Tm.</td>\n",
       "      <td>NaN</td>\n",
       "      <td>30-07-2018</td>\n",
       "    </tr>\n",
       "    <tr>\n",
       "      <th>1</th>\n",
       "      <td>Cereales</td>\n",
       "      <td>Cebada</td>\n",
       "      <td>159,00 / 0,00</td>\n",
       "      <td>165,00 / 0,00</td>\n",
       "      <td>6,00</td>\n",
       "      <td>Eur / Tm.</td>\n",
       "      <td>NaN</td>\n",
       "      <td>06-08-2018</td>\n",
       "    </tr>\n",
       "    <tr>\n",
       "      <th>1</th>\n",
       "      <td>Cereales</td>\n",
       "      <td>Cebada</td>\n",
       "      <td>165,00 / 0,00</td>\n",
       "      <td>175,00 / 0,00</td>\n",
       "      <td>10,00</td>\n",
       "      <td>Eur / Tm.</td>\n",
       "      <td>NaN</td>\n",
       "      <td>13-08-2018</td>\n",
       "    </tr>\n",
       "    <tr>\n",
       "      <th>1</th>\n",
       "      <td>Cereales</td>\n",
       "      <td>Cebada</td>\n",
       "      <td>165,00 / 0,00</td>\n",
       "      <td>175,00 / 0,00</td>\n",
       "      <td>10,00</td>\n",
       "      <td>Eur / Tm.</td>\n",
       "      <td>NaN</td>\n",
       "      <td>13-08-2018</td>\n",
       "    </tr>\n",
       "  </tbody>\n",
       "</table>\n",
       "</div>"
      ],
      "text/plain": [
       "   Producto Categoría       Anterior         Último Diferencia     Medida  \\\n",
       "1  Cereales    Cebada  154,00 / 0,00  155,00 / 0,00       1,00  Eur / Tm.   \n",
       "1  Cereales    Cebada  155,00 / 0,00  159,00 / 0,00       4,00  Eur / Tm.   \n",
       "1  Cereales    Cebada  159,00 / 0,00  165,00 / 0,00       6,00  Eur / Tm.   \n",
       "1  Cereales    Cebada  165,00 / 0,00  175,00 / 0,00      10,00  Eur / Tm.   \n",
       "1  Cereales    Cebada  165,00 / 0,00  175,00 / 0,00      10,00  Eur / Tm.   \n",
       "\n",
       "  Tendencia       Fecha  \n",
       "1       NaN  23-07-2018  \n",
       "1       NaN  30-07-2018  \n",
       "1       NaN  06-08-2018  \n",
       "1       NaN  13-08-2018  \n",
       "1       NaN  13-08-2018  "
      ]
     },
     "execution_count": 68,
     "metadata": {},
     "output_type": "execute_result"
    }
   ],
   "source": [
    "final_data[final_data[\"Categoría\"]==\"Cebada\"].tail()"
   ]
  },
  {
   "cell_type": "markdown",
   "metadata": {},
   "source": [
    "# Clean Data"
   ]
  },
  {
   "cell_type": "code",
   "execution_count": 69,
   "metadata": {},
   "outputs": [],
   "source": [
    "def get_price(row, row_name):\n",
    "    value = float(row[row_name].split(\"/\")[0].strip().replace(\",\", \".\"))\n",
    "    if value == 0.0:\n",
    "        return np.nan\n",
    "    else:\n",
    "        return value"
   ]
  },
  {
   "cell_type": "code",
   "execution_count": 70,
   "metadata": {},
   "outputs": [],
   "source": [
    "final_data[\"Anterior\"] = final_data.apply(lambda row: get_price(row, \"Anterior\"), axis=1)"
   ]
  },
  {
   "cell_type": "code",
   "execution_count": 71,
   "metadata": {},
   "outputs": [],
   "source": [
    "final_data[\"Último\"] = final_data.apply(lambda row: get_price(row, \"Último\"), axis=1)"
   ]
  },
  {
   "cell_type": "code",
   "execution_count": 72,
   "metadata": {},
   "outputs": [],
   "source": [
    "final_data[\"Diferencia\"] = final_data.apply(lambda row: get_price(row, \"Diferencia\"), axis=1)"
   ]
  },
  {
   "cell_type": "code",
   "execution_count": 73,
   "metadata": {},
   "outputs": [
    {
     "data": {
      "text/html": [
       "<div>\n",
       "<style scoped>\n",
       "    .dataframe tbody tr th:only-of-type {\n",
       "        vertical-align: middle;\n",
       "    }\n",
       "\n",
       "    .dataframe tbody tr th {\n",
       "        vertical-align: top;\n",
       "    }\n",
       "\n",
       "    .dataframe thead th {\n",
       "        text-align: right;\n",
       "    }\n",
       "</style>\n",
       "<table border=\"1\" class=\"dataframe\">\n",
       "  <thead>\n",
       "    <tr style=\"text-align: right;\">\n",
       "      <th></th>\n",
       "      <th>Producto</th>\n",
       "      <th>Categoría</th>\n",
       "      <th>Anterior</th>\n",
       "      <th>Último</th>\n",
       "      <th>Diferencia</th>\n",
       "      <th>Medida</th>\n",
       "      <th>Tendencia</th>\n",
       "      <th>Fecha</th>\n",
       "    </tr>\n",
       "  </thead>\n",
       "  <tbody>\n",
       "    <tr>\n",
       "      <th>1</th>\n",
       "      <td>Cereales</td>\n",
       "      <td>Cebada</td>\n",
       "      <td>154.0</td>\n",
       "      <td>155.0</td>\n",
       "      <td>1.0</td>\n",
       "      <td>Eur / Tm.</td>\n",
       "      <td>NaN</td>\n",
       "      <td>23-07-2018</td>\n",
       "    </tr>\n",
       "    <tr>\n",
       "      <th>1</th>\n",
       "      <td>Cereales</td>\n",
       "      <td>Cebada</td>\n",
       "      <td>155.0</td>\n",
       "      <td>159.0</td>\n",
       "      <td>4.0</td>\n",
       "      <td>Eur / Tm.</td>\n",
       "      <td>NaN</td>\n",
       "      <td>30-07-2018</td>\n",
       "    </tr>\n",
       "    <tr>\n",
       "      <th>1</th>\n",
       "      <td>Cereales</td>\n",
       "      <td>Cebada</td>\n",
       "      <td>159.0</td>\n",
       "      <td>165.0</td>\n",
       "      <td>6.0</td>\n",
       "      <td>Eur / Tm.</td>\n",
       "      <td>NaN</td>\n",
       "      <td>06-08-2018</td>\n",
       "    </tr>\n",
       "    <tr>\n",
       "      <th>1</th>\n",
       "      <td>Cereales</td>\n",
       "      <td>Cebada</td>\n",
       "      <td>165.0</td>\n",
       "      <td>175.0</td>\n",
       "      <td>10.0</td>\n",
       "      <td>Eur / Tm.</td>\n",
       "      <td>NaN</td>\n",
       "      <td>13-08-2018</td>\n",
       "    </tr>\n",
       "    <tr>\n",
       "      <th>1</th>\n",
       "      <td>Cereales</td>\n",
       "      <td>Cebada</td>\n",
       "      <td>165.0</td>\n",
       "      <td>175.0</td>\n",
       "      <td>10.0</td>\n",
       "      <td>Eur / Tm.</td>\n",
       "      <td>NaN</td>\n",
       "      <td>13-08-2018</td>\n",
       "    </tr>\n",
       "  </tbody>\n",
       "</table>\n",
       "</div>"
      ],
      "text/plain": [
       "   Producto Categoría  Anterior  Último  Diferencia     Medida Tendencia  \\\n",
       "1  Cereales    Cebada     154.0   155.0         1.0  Eur / Tm.       NaN   \n",
       "1  Cereales    Cebada     155.0   159.0         4.0  Eur / Tm.       NaN   \n",
       "1  Cereales    Cebada     159.0   165.0         6.0  Eur / Tm.       NaN   \n",
       "1  Cereales    Cebada     165.0   175.0        10.0  Eur / Tm.       NaN   \n",
       "1  Cereales    Cebada     165.0   175.0        10.0  Eur / Tm.       NaN   \n",
       "\n",
       "        Fecha  \n",
       "1  23-07-2018  \n",
       "1  30-07-2018  \n",
       "1  06-08-2018  \n",
       "1  13-08-2018  \n",
       "1  13-08-2018  "
      ]
     },
     "execution_count": 73,
     "metadata": {},
     "output_type": "execute_result"
    }
   ],
   "source": [
    "final_data[final_data[\"Categoría\"]==\"Cebada\"].tail()"
   ]
  },
  {
   "cell_type": "markdown",
   "metadata": {},
   "source": [
    "# Get Grouped Data"
   ]
  },
  {
   "cell_type": "code",
   "execution_count": 74,
   "metadata": {},
   "outputs": [],
   "source": [
    "dict_df = {key:df for key, df in final_data.groupby(\"Categoría\")}"
   ]
  },
  {
   "cell_type": "markdown",
   "metadata": {},
   "source": [
    "# Impute Missing Data"
   ]
  },
  {
   "cell_type": "code",
   "execution_count": 86,
   "metadata": {},
   "outputs": [],
   "source": [
    "for key in dict_df.keys():\n",
    "    dict_df[key][\"Anterior\"] = dict_df[key][\"Anterior\"].interpolate(axis=0)\n",
    "    dict_df[key][\"Último\"] = dict_df[key][\"Último\"].interpolate(axis=0)"
   ]
  },
  {
   "cell_type": "markdown",
   "metadata": {},
   "source": [
    "# Export Weekly Data"
   ]
  },
  {
   "cell_type": "code",
   "execution_count": 89,
   "metadata": {},
   "outputs": [],
   "source": [
    "writer_weekly = pd.ExcelWriter('weekly_data.xlsx', engine='xlsxwriter')"
   ]
  },
  {
   "cell_type": "code",
   "execution_count": null,
   "metadata": {},
   "outputs": [],
   "source": [
    "for key in dict_df.keys():\n",
    "    sheet_name = key[:30]\n",
    "    chars = '[]:*?/\\\"'\n",
    "    for c in chars:\n",
    "        sheet_name = sheet_name.replace(c, \"\")\n",
    "    print(sheet_name)\n",
    "    dict_df[key].to_excel(writer_weekly, sheet_name=sheet_name)"
   ]
  },
  {
   "cell_type": "code",
   "execution_count": 100,
   "metadata": {},
   "outputs": [],
   "source": [
    "writer_weekly.save()"
   ]
  },
  {
   "cell_type": "code",
   "execution_count": null,
   "metadata": {},
   "outputs": [],
   "source": []
  }
 ],
 "metadata": {
  "kernelspec": {
   "display_name": "Python 3",
   "language": "python",
   "name": "python3"
  }
 },
 "nbformat": 4,
 "nbformat_minor": 2
}
