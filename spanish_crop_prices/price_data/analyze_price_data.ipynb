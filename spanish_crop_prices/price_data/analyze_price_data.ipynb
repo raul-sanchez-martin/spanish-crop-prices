{
 "cells": [
  {
   "cell_type": "markdown",
   "metadata": {},
   "source": [
    "# Analyze Price Data"
   ]
  },
  {
   "cell_type": "code",
   "execution_count": 2,
   "metadata": {},
   "outputs": [],
   "source": [
    "import pandas as pd"
   ]
  },
  {
   "cell_type": "markdown",
   "metadata": {},
   "source": [
    "# Read Data"
   ]
  },
  {
   "cell_type": "code",
   "execution_count": 47,
   "metadata": {},
   "outputs": [],
   "source": [
    "dataparse = lambda dates: pd.datetime.strptime(dates, '%m-%Y')\n",
    "file_name = 'monthly_data.xlsx'\n",
    "dfs = pd.read_excel(file_name, sheet_name=None, \n",
    "                    parse_dates=[\"Fecha\"],\n",
    "                   date_parser=dataparse)"
   ]
  },
  {
   "cell_type": "code",
   "execution_count": 48,
   "metadata": {},
   "outputs": [],
   "source": [
    "for key, value in dfs.items():\n",
    "    dfs[key] = dfs[key].set_index(\"Fecha\")"
   ]
  },
  {
   "cell_type": "code",
   "execution_count": 64,
   "metadata": {},
   "outputs": [],
   "source": [
    "ts_dict = {key: dfs[key][\"Último\"] for key in dfs.keys()}"
   ]
  },
  {
   "cell_type": "code",
   "execution_count": 66,
   "metadata": {},
   "outputs": [
    {
     "data": {
      "text/plain": [
       "Fecha\n",
       "2006-01-01    144.800000\n",
       "2006-02-01    141.500000\n",
       "2006-03-01    135.750000\n",
       "2006-04-01    128.500000\n",
       "2006-05-01    119.250000\n",
       "2006-06-01    116.666667\n",
       "2006-07-01    113.600000\n",
       "2006-08-01    117.000000\n",
       "2006-09-01    125.750000\n",
       "2006-10-01    139.800000\n",
       "2006-11-01    153.500000\n",
       "2006-12-01    154.000000\n",
       "2007-01-01    153.000000\n",
       "2007-02-01    155.250000\n",
       "2007-03-01    154.750000\n",
       "2007-04-01    157.000000\n",
       "2007-05-01    179.000000\n",
       "2007-06-01    168.500000\n",
       "2007-07-01    159.600000\n",
       "2007-08-01    181.000000\n",
       "2007-09-01    209.500000\n",
       "2007-10-01    222.200000\n",
       "2007-11-01    207.000000\n",
       "2007-12-01    222.800000\n",
       "2008-01-01    237.500000\n",
       "2008-02-01    222.500000\n",
       "2008-03-01    219.200000\n",
       "2008-04-01    209.000000\n",
       "2008-05-01    183.250000\n",
       "2008-06-01    196.400000\n",
       "                 ...    \n",
       "2016-06-01    158.000000\n",
       "2016-07-01    145.000000\n",
       "2016-08-01    143.600000\n",
       "2016-09-01    141.250000\n",
       "2016-10-01    141.000000\n",
       "2016-11-01    144.250000\n",
       "2016-12-01    148.000000\n",
       "2017-01-01    147.400000\n",
       "2017-02-01    147.750000\n",
       "2017-03-01    147.000000\n",
       "2017-04-01    147.000000\n",
       "2017-05-01    162.400000\n",
       "2017-06-01    166.750000\n",
       "2017-07-01    172.600000\n",
       "2017-08-01    173.000000\n",
       "2017-09-01    174.250000\n",
       "2017-10-01    180.000000\n",
       "2017-11-01    184.500000\n",
       "2017-12-01    186.000000\n",
       "2018-01-01    184.600000\n",
       "2018-02-01    182.750000\n",
       "2018-03-01    182.000000\n",
       "2018-04-01    180.800000\n",
       "2018-05-01    175.000000\n",
       "2018-06-01    172.250000\n",
       "2018-07-01    156.000000\n",
       "2018-08-01    174.000000\n",
       "2018-09-01    177.500000\n",
       "2018-10-01    178.000000\n",
       "2018-11-01    187.000000\n",
       "Name: Último, Length: 155, dtype: float64"
      ]
     },
     "execution_count": 66,
     "metadata": {},
     "output_type": "execute_result"
    }
   ],
   "source": [
    "ts_dict[\"Cebada\"]"
   ]
  },
  {
   "cell_type": "code",
   "execution_count": null,
   "metadata": {},
   "outputs": [],
   "source": []
  }
 ],
 "metadata": {
  "kernelspec": {
   "display_name": "Python 3",
   "language": "python",
   "name": "python3"
  },
  "language_info": {
   "codemirror_mode": {
    "name": "ipython",
    "version": 3
   },
   "file_extension": ".py",
   "mimetype": "text/x-python",
   "name": "python",
   "nbconvert_exporter": "python",
   "pygments_lexer": "ipython3",
   "version": "3.5.2"
  }
 },
 "nbformat": 4,
 "nbformat_minor": 2
}
