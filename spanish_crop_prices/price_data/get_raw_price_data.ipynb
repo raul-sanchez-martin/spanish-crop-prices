{
 "cells": [
  {
   "cell_type": "markdown",
   "metadata": {},
   "source": [
    "# Get Raw Price Data"
   ]
  },
  {
   "cell_type": "code",
   "execution_count": 8,
   "metadata": {},
   "outputs": [],
   "source": [
    "import subprocess"
   ]
  },
  {
   "cell_type": "code",
   "execution_count": 16,
   "metadata": {},
   "outputs": [
    {
     "name": "stdout",
     "output_type": "stream",
     "text": [
      "program output: b''\n"
     ]
    }
   ],
   "source": [
    "import subprocess\n",
    "proc = subprocess.Popen([\"curl\", url_template], stdout=subprocess.PIPE, shell=True)\n",
    "(out, err) = proc.communicate()\n",
    "print(\"program output: {0}\".format(out))"
   ]
  },
  {
   "cell_type": "code",
   "execution_count": 103,
   "metadata": {},
   "outputs": [],
   "source": [
    "import requests\n",
    "from bs4 import BeautifulSoup\n",
    "import pandas as pd\n",
    "import datetime\n",
    "from utils import COOKIES, HEADERS, REQUEST_DATA, COLUMNS\n",
    "import threading\n",
    "import numpy as np"
   ]
  },
  {
   "cell_type": "code",
   "execution_count": 5,
   "metadata": {},
   "outputs": [],
   "source": [
    "def get_prices_date(date):\n",
    "\n",
    "    data = REQUEST_DATA + [\n",
    "      ('fecha', date),\n",
    "      ('fechaDesde', date),\n",
    "      ('fechaHasta', date),\n",
    "    ]\n",
    "\n",
    "    return requests.post('http://www.lasalina.es/Aplicaciones/GestorInter.jsp', headers=HEADERS, cookies=COOKIES, data=data)"
   ]
  },
  {
   "cell_type": "code",
   "execution_count": 23,
   "metadata": {},
   "outputs": [],
   "source": [
    "def get_prices_df(prices):\n",
    "    \n",
    "    dict_data = {col:[] for col in COLUMNS}        \n",
    "    [[dict_data[col].append(price.find_all(\"td\")[idx].text) for idx, col in enumerate(COLUMNS)] for price in prices]\n",
    "    \n",
    "    return pd.DataFrame.from_dict(data = dict_data)[COLUMNS]"
   ]
  },
  {
   "cell_type": "code",
   "execution_count": 92,
   "metadata": {},
   "outputs": [],
   "source": [
    "def write_prices_single_date(date):\n",
    "    \n",
    "    soup = BeautifulSoup(get_prices_date(date).text, 'html.parser')\n",
    "    prices = soup.find_all(\"table\")[1].find_all(\"tr\")[1:]\n",
    "    get_prices_df(prices).to_csv(\"{0}_{1}.{2}\".format(\"raw_data/data\", date, 'csv'),index = False)"
   ]
  },
  {
   "cell_type": "code",
   "execution_count": 93,
   "metadata": {},
   "outputs": [],
   "source": [
    "def write_prices_list_dates(list_dates):\n",
    "    [write_prices_single_date(date) for date in list_dates]"
   ]
  },
  {
   "cell_type": "code",
   "execution_count": 105,
   "metadata": {},
   "outputs": [],
   "source": [
    "def get_dates():\n",
    "    \n",
    "    dt = datetime.datetime(2006, 1, 1)\n",
    "    end_date = datetime.datetime(2018, 8, 13)\n",
    "    step = datetime.timedelta(weeks = 1)\n",
    "    result = []\n",
    "    while dt < end_date:\n",
    "        result.append(dt.strftime('%d-%m-%Y'))\n",
    "        dt += step\n",
    "    return result"
   ]
  },
  {
   "cell_type": "code",
   "execution_count": 106,
   "metadata": {},
   "outputs": [],
   "source": [
    "dates = get_dates()\n",
    "num_threads = 4\n",
    "dates_array_splits = np.array_split(dates, num_threads)\n",
    "\n",
    "jobs = []\n",
    "for date_array in dates_array_splits:\n",
    "    thread = threading.Thread(target=write_prices_list_dates(list(date_array)))\n",
    "    jobs.append(thread)\n",
    "    \n",
    "for j in jobs:\n",
    "    j.start()\n",
    "\n",
    "for j in jobs:\n",
    "    j.join()"
   ]
  },
  {
   "cell_type": "code",
   "execution_count": null,
   "metadata": {},
   "outputs": [],
   "source": []
  }
 ],
 "metadata": {
  "kernelspec": {
   "display_name": "Python 3",
   "language": "python",
   "name": "python3"
  },
  "language_info": {
   "codemirror_mode": {
    "name": "ipython",
    "version": 3
   },
   "file_extension": ".py",
   "mimetype": "text/x-python",
   "name": "python",
   "nbconvert_exporter": "python",
   "pygments_lexer": "ipython3",
   "version": "3.5.2"
  }
 },
 "nbformat": 4,
 "nbformat_minor": 2
}
