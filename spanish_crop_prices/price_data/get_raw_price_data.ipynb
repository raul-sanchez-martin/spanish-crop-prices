{
 "cells": [
  {
   "cell_type": "markdown",
   "metadata": {},
   "source": [
    "# Get Raw Price Data"
   ]
  },
  {
   "cell_type": "code",
   "execution_count": 8,
   "metadata": {},
   "outputs": [],
   "source": [
    "import subprocess"
   ]
  },
  {
   "cell_type": "code",
   "execution_count": 16,
   "metadata": {},
   "outputs": [
    {
     "name": "stdout",
     "output_type": "stream",
     "text": [
      "program output: b''\n"
     ]
    }
   ],
   "source": [
    "import subprocess\n",
    "\n",
    "proc = subprocess.Popen([\"curl\", url_template], stdout=subprocess.PIPE, shell=True)\n",
    "(out, err) = proc.communicate()\n",
    "print(\"program output: {0}\".format(out))"
   ]
  },
  {
   "cell_type": "code",
   "execution_count": null,
   "metadata": {},
   "outputs": [],
   "source": [
    "import requests\n",
    "from bs4 import BeautifulSoup\n",
    "import pandas as pd"
   ]
  },
  {
   "cell_type": "code",
   "execution_count": 78,
   "metadata": {},
   "outputs": [],
   "source": [
    "def get_prices_date(date):\n",
    "    \n",
    "    cookies = {\n",
    "        'JSESSIONID': '001DD1B6E9B2F1153D65CB770F15BDE9',\n",
    "    }\n",
    "\n",
    "    headers = {\n",
    "        'Connection': 'keep-alive',\n",
    "        'Cache-Control': 'max-age=0',\n",
    "        'Origin': 'http://www.lasalina.es',\n",
    "        'Upgrade-Insecure-Requests': '1',\n",
    "        'Content-Type': 'application/x-www-form-urlencoded',\n",
    "        'User-Agent': 'Mozilla/5.0 (X11; Linux x86_64) AppleWebKit/537.36 (KHTML, like Gecko) Chrome/68.0.3440.106 Safari/537.36',\n",
    "        'Accept': 'text/html,application/xhtml+xml,application/xml;q=0.9,image/webp,image/apng,*/*;q=0.8',\n",
    "        'Referer': 'http://www.lasalina.es/Aplicaciones/GestorInter.jsp?prestacion=Lonja&funcion=BusquedaCotizacion',\n",
    "        'Accept-Encoding': 'gzip, deflate',\n",
    "        'Accept-Language': 'en-US,en;q=0.9',\n",
    "    }\n",
    "\n",
    "    data = [\n",
    "      ('prestacion', 'Lonja'),\n",
    "      ('funcion', 'BusquedaCotizacion'),\n",
    "      ('valor1', ''),\n",
    "      ('valor2', ''),\n",
    "      ('productoStr1', ''),\n",
    "      ('categoriaStr1', ''),\n",
    "      ('codigoProducto', ''),\n",
    "      ('mesa', '0'),\n",
    "      ('producto', '0'),\n",
    "      ('categoria', '0'),\n",
    "      ('fecha', date),\n",
    "      ('fechaDesde', date),\n",
    "      ('fechaHasta', date),\n",
    "    ]\n",
    "\n",
    "    return requests.post('http://www.lasalina.es/Aplicaciones/GestorInter.jsp', headers=headers, cookies=cookies, data=data)"
   ]
  },
  {
   "cell_type": "code",
   "execution_count": 79,
   "metadata": {},
   "outputs": [],
   "source": [
    "def get_prices_df(prices):\n",
    "    columns = [\n",
    "\n",
    "    \"Producto\",\n",
    "    \"Categoría\",\n",
    "    \"Anterior\", \n",
    "    \"Último\",\n",
    "    \"Diferencia\",\n",
    "    \"Medida\",\n",
    "    \"Tendencia\",\n",
    "    \"Fecha\"\n",
    "    \n",
    "    ]\n",
    "\n",
    "    dict_data = {\n",
    "\n",
    "        \"Producto\":[],\n",
    "        \"Categoría\":[],\n",
    "        \"Anterior\":[], \n",
    "        \"Último\":[],\n",
    "        \"Diferencia\":[],\n",
    "        \"Medida\":[],\n",
    "        \"Tendencia\":[],\n",
    "        \"Fecha\":[]\n",
    "\n",
    "    }\n",
    "\n",
    "    for price in prices:\n",
    "        for idx, col in enumerate(columns):\n",
    "            dict_data[col].append(price.find_all(\"td\")[idx].text)\n",
    "            \n",
    "    return pd.DataFrame.from_dict(data = dict_data)[columns]"
   ]
  },
  {
   "cell_type": "code",
   "execution_count": null,
   "metadata": {},
   "outputs": [],
   "source": [
    "date = '13-08-2018'"
   ]
  },
  {
   "cell_type": "code",
   "execution_count": 14,
   "metadata": {},
   "outputs": [],
   "source": [
    "soup = BeautifulSoup(response.text, 'html.parser')"
   ]
  },
  {
   "cell_type": "code",
   "execution_count": null,
   "metadata": {},
   "outputs": [],
   "source": [
    "response = get_prices_date('13-08-2018')"
   ]
  },
  {
   "cell_type": "code",
   "execution_count": 18,
   "metadata": {},
   "outputs": [],
   "source": [
    "prices = soup.find_all(\"table\")[1].find_all(\"tr\")[1:]"
   ]
  },
  {
   "cell_type": "code",
   "execution_count": 80,
   "metadata": {},
   "outputs": [],
   "source": [
    "data_df = get_prices_df(prices)"
   ]
  },
  {
   "cell_type": "code",
   "execution_count": 81,
   "metadata": {},
   "outputs": [
    {
     "data": {
      "text/html": [
       "<div>\n",
       "<style scoped>\n",
       "    .dataframe tbody tr th:only-of-type {\n",
       "        vertical-align: middle;\n",
       "    }\n",
       "\n",
       "    .dataframe tbody tr th {\n",
       "        vertical-align: top;\n",
       "    }\n",
       "\n",
       "    .dataframe thead th {\n",
       "        text-align: right;\n",
       "    }\n",
       "</style>\n",
       "<table border=\"1\" class=\"dataframe\">\n",
       "  <thead>\n",
       "    <tr style=\"text-align: right;\">\n",
       "      <th></th>\n",
       "      <th>Producto</th>\n",
       "      <th>Categoría</th>\n",
       "      <th>Anterior</th>\n",
       "      <th>Último</th>\n",
       "      <th>Diferencia</th>\n",
       "      <th>Medida</th>\n",
       "      <th>Tendencia</th>\n",
       "      <th>Fecha</th>\n",
       "    </tr>\n",
       "  </thead>\n",
       "  <tbody>\n",
       "    <tr>\n",
       "      <th>0</th>\n",
       "      <td>Cereales</td>\n",
       "      <td>Trigo Blando p.e. &gt; 72 kg/Hl</td>\n",
       "      <td>176,00 / 0,00</td>\n",
       "      <td>186,00 / 0,00</td>\n",
       "      <td>10,00</td>\n",
       "      <td>Eur / Tm.</td>\n",
       "      <td></td>\n",
       "      <td>13-08-2018</td>\n",
       "    </tr>\n",
       "    <tr>\n",
       "      <th>1</th>\n",
       "      <td>Cereales</td>\n",
       "      <td>Cebada</td>\n",
       "      <td>165,00 / 0,00</td>\n",
       "      <td>175,00 / 0,00</td>\n",
       "      <td>10,00</td>\n",
       "      <td>Eur / Tm.</td>\n",
       "      <td></td>\n",
       "      <td>13-08-2018</td>\n",
       "    </tr>\n",
       "    <tr>\n",
       "      <th>2</th>\n",
       "      <td>Cereales</td>\n",
       "      <td>Avena</td>\n",
       "      <td>128,00 / 0,00</td>\n",
       "      <td>132,00 / 0,00</td>\n",
       "      <td>4,00</td>\n",
       "      <td>Eur / Tm.</td>\n",
       "      <td></td>\n",
       "      <td>13-08-2018</td>\n",
       "    </tr>\n",
       "    <tr>\n",
       "      <th>3</th>\n",
       "      <td>Cereales</td>\n",
       "      <td>Centeno</td>\n",
       "      <td>156,00 / 0,00</td>\n",
       "      <td>161,00 / 0,00</td>\n",
       "      <td>5,00</td>\n",
       "      <td>Eur / Tm.</td>\n",
       "      <td></td>\n",
       "      <td>13-08-2018</td>\n",
       "    </tr>\n",
       "    <tr>\n",
       "      <th>4</th>\n",
       "      <td>Cereales</td>\n",
       "      <td>Triticale</td>\n",
       "      <td>168,00 / 0,00</td>\n",
       "      <td>175,00 / 0,00</td>\n",
       "      <td>7,00</td>\n",
       "      <td>Eur / Kg. Vivo</td>\n",
       "      <td></td>\n",
       "      <td>13-08-2018</td>\n",
       "    </tr>\n",
       "  </tbody>\n",
       "</table>\n",
       "</div>"
      ],
      "text/plain": [
       "   Producto                     Categoría       Anterior         Último  \\\n",
       "0  Cereales  Trigo Blando p.e. > 72 kg/Hl  176,00 / 0,00  186,00 / 0,00   \n",
       "1  Cereales                        Cebada  165,00 / 0,00  175,00 / 0,00   \n",
       "2  Cereales                         Avena  128,00 / 0,00  132,00 / 0,00   \n",
       "3  Cereales                       Centeno  156,00 / 0,00  161,00 / 0,00   \n",
       "4  Cereales                     Triticale  168,00 / 0,00  175,00 / 0,00   \n",
       "\n",
       "  Diferencia          Medida Tendencia       Fecha  \n",
       "0      10,00       Eur / Tm.            13-08-2018  \n",
       "1      10,00       Eur / Tm.            13-08-2018  \n",
       "2       4,00       Eur / Tm.            13-08-2018  \n",
       "3       5,00       Eur / Tm.            13-08-2018  \n",
       "4       7,00  Eur / Kg. Vivo            13-08-2018  "
      ]
     },
     "execution_count": 81,
     "metadata": {},
     "output_type": "execute_result"
    }
   ],
   "source": [
    "data_df.head()"
   ]
  },
  {
   "cell_type": "code",
   "execution_count": null,
   "metadata": {},
   "outputs": [],
   "source": []
  }
 ],
 "metadata": {
  "kernelspec": {
   "display_name": "Python 3",
   "language": "python",
   "name": "python3"
  },
  "language_info": {
   "codemirror_mode": {
    "name": "ipython",
    "version": 3
   },
   "file_extension": ".py",
   "mimetype": "text/x-python",
   "name": "python",
   "nbconvert_exporter": "python",
   "pygments_lexer": "ipython3",
   "version": "3.5.2"
  }
 },
 "nbformat": 4,
 "nbformat_minor": 2
}
